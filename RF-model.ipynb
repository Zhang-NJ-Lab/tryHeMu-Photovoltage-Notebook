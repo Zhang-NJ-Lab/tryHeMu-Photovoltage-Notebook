{
 "cells": [
  {
   "cell_type": "code",
   "execution_count": 15,
   "id": "5c53fa62-1cc7-4e99-b0a5-529871ca6ee1",
   "metadata": {},
   "outputs": [],
   "source": [
    "from sklearn.ensemble import RandomForestRegressor\n",
    "import pandas as pd\n",
    "from pandas import DataFrame\n",
    "from sklearn import preprocessing\n",
    "import numpy as np\n",
    "from scipy.stats import pearsonr\n",
    "from sklearn.metrics import mean_squared_error\n",
    "import matplotlib.pyplot as plt\n",
    "from matplotlib.pyplot import MultipleLocator"
   ]
  },
  {
   "cell_type": "code",
   "execution_count": 9,
   "id": "8f89aa4e-a0c9-4933-af53-eae01965f836",
   "metadata": {},
   "outputs": [],
   "source": [
    "dataset= r'train.xlsx' #筛选特征后的训练集\n",
    "\n",
    "data=pd.DataFrame(pd.read_excel(dataset))\n",
    "\n",
    "X=data.values[:,:-1] #输入数据归一化\n",
    "\n",
    "for i in range(X.shape[1]):\n",
    "    X[:,[i]] = preprocessing.MinMaxScaler().fit_transform(X[:,[i]])\n",
    "    \n",
    "y=data.values[:,-1] #目标数值\n"
   ]
  },
  {
   "cell_type": "code",
   "execution_count": 10,
   "id": "c8a4512d-e2d5-4518-b3a5-162956ae4c9d",
   "metadata": {},
   "outputs": [
    {
     "name": "stdout",
     "output_type": "stream",
     "text": [
      "0.9725222564616167 0.9863375317413399 1 1\n",
      "0.9859229762056619 0.9932422570514342 1 2\n",
      "0.9780927909040253 0.9895966550589604 1 3\n",
      "0.980448914247426 0.9904969783958942 1 4\n",
      "0.98251902091935 0.9915562492903892 1 5\n",
      "0.9837989737895352 0.9920710785314864 1 6\n",
      "0.9853124456271488 0.9927883210954475 1 7\n",
      "0.987464357837763 0.9937988166799935 1 8\n",
      "0.9876489388255524 0.9939059477271265 1 9\n",
      "0.947247614371517 0.9752091109550526 2 2\n",
      "0.9674046029600476 0.9846042249418523 2 3\n",
      "0.9782472371409674 0.9895449351130527 2 4\n",
      "0.9822021837659287 0.9914035006222249 2 5\n",
      "0.9823045253438905 0.991415040223669 2 6\n",
      "0.9836786932524024 0.9920472762867839 2 7\n",
      "0.985825427636025 0.9930319445428328 2 8\n",
      "0.9874188093440027 0.9937849140093458 2 9\n",
      "0.9291882717224045 0.9665464330023927 3 1\n",
      "0.9677319556470281 0.9847743939692019 3 2\n",
      "0.9768753770463038 0.9890541093603291 3 3\n",
      "0.9788475760881776 0.989893201432333 3 4\n",
      "0.9810063867700747 0.9907444465073635 3 5\n",
      "0.9839043775895302 0.992145902492814 3 6\n",
      "0.9862546357004518 0.9931933908158648 3 7\n",
      "0.9883136323880117 0.9941600645981857 3 8\n",
      "0.9888658527363035 0.9944065602255067 3 9\n",
      "0.9574903156024772 0.9800548379463632 4 2\n",
      "0.9641001745137279 0.9830912604262974 4 3\n",
      "0.9714772139754912 0.9864859822790158 4 4\n",
      "0.9770473253704101 0.9890176928916282 4 5\n",
      "0.9805486455279988 0.990660823730668 4 6\n",
      "0.9830791109331249 0.9918866546834113 4 7\n",
      "0.9857460443738426 0.9931496007317134 4 8\n",
      "0.986824272658684 0.9934716380714833 4 9\n",
      "0.9394341056253361 0.9704784842554701 5 1\n",
      "0.9713181503912922 0.9861271391434578 5 2\n",
      "0.9841474910687925 0.99240684095262 5 3\n",
      "0.9835668701890137 0.9921490844307537 5 4\n",
      "0.9840097271807318 0.9923734703391819 5 5\n",
      "0.9813970216858912 0.9911773939818931 5 6\n",
      "0.9829323290191854 0.9918536898157847 5 7\n",
      "0.9851661890934774 0.9928880769037917 5 8\n",
      "0.9877791390512121 0.9941203261483278 5 9\n",
      "0.9615795477815248 0.9812696979371717 6 2\n",
      "0.9729989248990297 0.986877290710552 6 3\n",
      "0.9805282445454411 0.9906126784124957 6 4\n",
      "0.9837441621461773 0.9922127244592773 6 5\n",
      "0.9869343052610946 0.9936964938654299 6 6\n",
      "0.9883570370128889 0.9943787889070862 6 7\n",
      "0.9895036949007758 0.9948777962001624 6 8\n",
      "0.9906949463533847 0.9954377173652856 6 9\n",
      "0.9181113013302841 0.960849543442418 7 1\n",
      "0.9640104871098416 0.9830391447324319 7 2\n",
      "0.9685621410527345 0.9852081563501502 7 3\n",
      "0.9773635461339482 0.9892403273365746 7 4\n",
      "0.980381115578772 0.990637183791225 7 5\n",
      "0.9826613569674674 0.9916580488973996 7 6\n",
      "0.9830876473778637 0.9917565785022594 7 7\n",
      "0.9850594640080825 0.9926088791021213 7 8\n",
      "0.9861674742670617 0.9931612585275226 7 9\n",
      "0.9428424026532254 0.9724700653195406 8 1\n",
      "0.9653181856775698 0.9836010040337048 8 2\n",
      "0.9801288630110465 0.9905639998208323 8 3\n",
      "0.9845130602539733 0.9925558917173518 8 4\n",
      "0.9877651545741504 0.9941002039791271 8 5\n",
      "0.9882258987841137 0.994308826716826 8 6\n",
      "0.9876199025447356 0.9939801786770207 8 7\n",
      "0.9873893189092038 0.9937039916610957 8 8\n",
      "0.9881358663584142 0.9940436878824876 8 9\n",
      "0.908338870966126 0.9563111693578105 9 1\n",
      "0.9563461178474193 0.9795841580535365 9 2\n",
      "0.9729198464682038 0.9872218775170166 9 3\n",
      "0.9810333058621445 0.9909723624580845 9 4\n",
      "0.9831326863050558 0.9918692427277691 9 5\n",
      "0.985390614066642 0.9929303537357708 9 6\n",
      "0.9883919763828997 0.9943562936135464 9 7\n",
      "0.988951218014573 0.9945834842029718 9 8\n",
      "0.9883826319254124 0.994301437659519 9 9\n"
     ]
    }
   ],
   "source": [
    "for i in range(1,10): #循环法调参\n",
    " for j in range(1,10):\n",
    "  clf = RandomForestRegressor(random_state=i,n_estimators=j,criterion='squared_error') #随机森林\n",
    "  clf.fit(X,y) #拟合\n",
    "  sse = np.sum((y - clf.predict(X)) ** 2)\n",
    "  sst = np.sum((y - np.mean(X)) ** 2)\n",
    "  R2 = 1 - sse / sst #R^2\n",
    "  o=pearsonr(y,clf.predict(X)) #pearson系数\n",
    "  if o[0]>0.9 and R2>0.9: #筛选条件\n",
    "    print(o[0],R2,i,j)"
   ]
  },
  {
   "cell_type": "code",
   "execution_count": 11,
   "id": "5f813efa-1206-4f4a-851b-ef87d1e13a1c",
   "metadata": {},
   "outputs": [
    {
     "data": {
      "text/plain": [
       "RandomForestRegressor(n_estimators=9, random_state=9)"
      ]
     },
     "execution_count": 11,
     "metadata": {},
     "output_type": "execute_result"
    }
   ],
   "source": [
    "lrTool=RandomForestRegressor(random_state=i,n_estimators=j,criterion='squared_error') #拟合\n",
    "\n",
    "lrTool.fit(X,y)"
   ]
  },
  {
   "cell_type": "code",
   "execution_count": 12,
   "id": "05763f18-d024-4ad7-8131-728bf11599ff",
   "metadata": {},
   "outputs": [],
   "source": [
    "mse = mean_squared_error(y, lrTool.predict(X))\n",
    "rmse = mse ** (1/2)\n",
    "\n",
    "sse = np.sum((y - lrTool.predict(X)) ** 2)\n",
    "sst = np.sum((y - np.mean(X)) ** 2)\n",
    "R2= 1 - sse / sst"
   ]
  },
  {
   "cell_type": "code",
   "execution_count": 13,
   "id": "bdae4c99-91fd-463d-84b9-192ec6d6e626",
   "metadata": {},
   "outputs": [
    {
     "name": "stdout",
     "output_type": "stream",
     "text": [
      "0.994301437659519\n",
      "0.020914808732380687\n",
      "(0.9883826319254124, 1.41965e-319)\n"
     ]
    }
   ],
   "source": [
    "print(R2) #准确率\n",
    "print(rmse)\n",
    "print(pearsonr(y,lrTool.predict(X)))"
   ]
  },
  {
   "cell_type": "code",
   "execution_count": 16,
   "id": "d1605e55-5f44-4f13-be33-5d1d39e900b1",
   "metadata": {},
   "outputs": [
    {
     "data": {
      "image/png": "[encoded data removed]",
      "text/plain": [
       "<Figure size 432x288 with 1 Axes>"
      ]
     },
     "metadata": {
      "needs_background": "light"
     },
     "output_type": "display_data"
    }
   ],
   "source": [
    "# 画图显示\n",
    "plt.yticks(fontproperties = 'Times New Roman', size = 14)\n",
    "plt.xticks(fontproperties = 'Times New Roman', size = 14)\n",
    "plt.rcParams['font.sans-serif'] = 'Roman'\n",
    "plt.rcParams['xtick.direction'] = 'in'\n",
    "plt.rcParams['ytick.direction'] = 'in'\n",
    "plt.plot(y,y,label='Real Data')\n",
    "plt.scatter(y,lrTool.predict(X),label='Predict',c='r')\n",
    "ax=plt.gca()\n",
    "ax.spines['bottom'].set_linewidth(2);###设置底部坐标轴的粗细\n",
    "ax.spines['left'].set_linewidth(2);####设置左边坐标轴的粗细\n",
    "ax.spines['right'].set_linewidth(2);###设置右边坐标轴的粗细\n",
    "ax.spines['top'].set_linewidth(2)\n",
    "plt.tick_params(width=2)\n",
    "ax.xaxis.set_tick_params(labelsize=20)\n",
    "plt.tick_params(which='major',length=8)\n",
    "plt.tick_params(which='minor',length=4,width=2)\n",
    "ax.yaxis.set_tick_params(labelsize=20)\n",
    "xminorLocator = MultipleLocator(1000)\n",
    "yminorLocator = MultipleLocator(1000)\n",
    "ax.xaxis.set_minor_locator(xminorLocator)\n",
    "ax.yaxis.set_minor_locator(yminorLocator)\n",
    "plt.show()"
   ]
  },
  {
   "cell_type": "code",
   "execution_count": null,
   "id": "4cb7cec0-6d8f-43b3-87ef-3d82a9d1ec56",
   "metadata": {},
   "outputs": [],
   "source": []
  }
 ],
 "metadata": {
  "kernelspec": {
   "display_name": "Python [conda env:py37]",
   "language": "python",
   "name": "conda-env-py37-py"
  },
  "language_info": {
   "codemirror_mode": {
    "name": "ipython",
    "version": 3
   },
   "file_extension": ".py",
   "mimetype": "text/x-python",
   "name": "python",
   "nbconvert_exporter": "python",
   "pygments_lexer": "ipython3",
   "version": "3.7.0"
  }
 },
 "nbformat": 4,
 "nbformat_minor": 5
}
