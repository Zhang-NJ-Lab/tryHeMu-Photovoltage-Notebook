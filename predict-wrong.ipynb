{
 "cells": [
  {
   "cell_type": "code",
   "execution_count": 1,
   "id": "808cc0d5-b94e-40e3-8928-21fde12561c5",
   "metadata": {},
   "outputs": [],
   "source": [
    "from sklearn.ensemble import RandomForestRegressor\n",
    "import pandas as pd\n",
    "from pandas import DataFrame\n",
    "from sklearn import preprocessing\n",
    "import numpy as np"
   ]
  },
  {
   "cell_type": "code",
   "execution_count": 2,
   "id": "e1b19a44-f030-4ee5-994e-241d46814bcd",
   "metadata": {},
   "outputs": [],
   "source": [
    "dataset= r'train.xlsx' #训练集\n",
    "dataset1= r'prediction.xlsx' #预测集"
   ]
  },
  {
   "cell_type": "code",
   "execution_count": 3,
   "id": "e405197e-16dd-4cf2-abc6-ae38459c6869",
   "metadata": {},
   "outputs": [],
   "source": [
    "data=pd.DataFrame(pd.read_excel(dataset))\n",
    "data1=pd.DataFrame(pd.read_excel(dataset1))"
   ]
  },
  {
   "cell_type": "code",
   "execution_count": 4,
   "id": "e4452cc7-f60c-418b-a99b-dae103b3403f",
   "metadata": {},
   "outputs": [],
   "source": [
    "X=data.values[:,:-1]  #训练集\n",
    "predX=data1.values[:,:]  #预测集"
   ]
  },
  {
   "cell_type": "code",
   "execution_count": 5,
   "id": "89fcc645-c4b8-496c-b601-5b59041b7953",
   "metadata": {},
   "outputs": [],
   "source": [
    "#输入数据归一化\n",
    "for i in range(X.shape[1]):\n",
    "    X[:,[i]] = preprocessing.MinMaxScaler().fit_transform(X[:,[i]])\n",
    "y=data.values[:,-1]"
   ]
  },
  {
   "cell_type": "code",
   "execution_count": 6,
   "id": "487b94e2-c798-4f88-b005-24f4b57c3ee9",
   "metadata": {},
   "outputs": [],
   "source": [
    "for i in range(predX.shape[1]):\n",
    "    predX[:,[i]] = preprocessing.MinMaxScaler().fit_transform(predX[:,[i]])"
   ]
  },
  {
   "cell_type": "code",
   "execution_count": 8,
   "id": "db5fecc4-4c3d-41dd-a7a0-c475769e49fa",
   "metadata": {},
   "outputs": [],
   "source": [
    "lrTool=RandomForestRegressor(random_state=i,n_estimators=2,criterion='squared_error')"
   ]
  },
  {
   "cell_type": "code",
   "execution_count": 9,
   "id": "02ef5845-ee3e-4d0b-bcf8-153052e1bd27",
   "metadata": {},
   "outputs": [
    {
     "name": "stdout",
     "output_type": "stream",
     "text": [
      "[ 3.180500e-01  3.180500e-01  2.799000e-01  2.805000e-01  2.254500e-01\n",
      "  2.549500e-01  2.549500e-01  2.669000e-01  2.026000e-01  2.029000e-01\n",
      "  3.134000e-01  3.139500e-01  3.150500e-01  3.155000e-01  3.143500e-01\n",
      "  2.421000e-01  2.628000e-01  2.611500e-01  2.792000e-01  2.021000e-01\n",
      "  3.815000e-01  3.815000e-01  3.812000e-01  3.818000e-01  3.818000e-01\n",
      "  2.053000e-01  2.628000e-01  2.611500e-01  2.792000e-01  2.021000e-01\n",
      "  2.684500e-01  2.648500e-01  2.757000e-01  2.578500e-01  2.573500e-01\n",
      "  2.549500e-01  2.549500e-01  2.669000e-01  2.026000e-01  2.029000e-01\n",
      "  3.134000e-01  3.139500e-01  3.150500e-01  3.155000e-01  3.143500e-01\n",
      "  2.271000e-01  2.756000e-01  2.756000e-01  2.877500e-01  2.106500e-01\n",
      "  3.815000e-01  3.815000e-01  3.812000e-01  3.818000e-01  3.818000e-01\n",
      "  2.271000e-01  2.756000e-01  2.756000e-01  2.877500e-01  2.106500e-01\n",
      "  2.684500e-01  2.648500e-01  2.757000e-01  2.578500e-01  2.573500e-01\n",
      "  3.091500e-01  3.098000e-01  3.112000e-01  3.148500e-01  3.162000e-01\n",
      "  2.421000e-01  2.756000e-01  2.756000e-01  2.877500e-01  2.106500e-01\n",
      "  3.815000e-01  3.815000e-01  3.812000e-01  3.818000e-01  3.818000e-01\n",
      "  2.053000e-01  2.756000e-01  2.756000e-01  2.877500e-01  2.106500e-01\n",
      "  2.970500e-01  2.936000e-01  1.154600e-01  1.183100e-01  1.215100e-01\n",
      "  2.696500e-01  3.064000e-01  3.064000e-01  3.005000e-01  3.005000e-01\n",
      "  1.785950e-01  1.785950e-01  1.912450e-01  1.885750e-01  1.885750e-01\n",
      "  2.696500e-01  3.064000e-01  3.064000e-01  3.005000e-01  3.005000e-01\n",
      "  2.669000e-01  2.654000e-01  2.630000e-01  2.449000e-01  2.450500e-01\n",
      "  2.144000e-01  2.144000e-01  2.099000e-01  2.085500e-01  2.117000e-01\n",
      " -1.500000e-04  3.350000e-02  3.350000e-02  6.394500e-02  6.394500e-02\n",
      "  1.353500e-01  1.331000e-01  1.345000e-01  1.378000e-01  1.468000e-01\n",
      "  7.313500e-02  2.135500e-01  2.561500e-01  2.478500e-01  2.426500e-01\n",
      "  9.748500e-02  2.444000e-01  2.416100e-01  3.488215e-02  3.739450e-02\n",
      "  1.353500e-01  1.331000e-01  1.345000e-01  1.378000e-01  1.468000e-01]\n"
     ]
    }
   ],
   "source": [
    "lrTool.fit(X,y) #模型训练\n",
    "\n",
    "predy=lrTool.predict(predX) #预测\n",
    "\n",
    "print(predy) #输出"
   ]
  },
  {
   "cell_type": "code",
   "execution_count": null,
   "id": "eed6683e-0486-43db-9e80-1f455794632f",
   "metadata": {},
   "outputs": [],
   "source": []
  }
 ],
 "metadata": {
  "kernelspec": {
   "display_name": "Python [conda env:py37]",
   "language": "python",
   "name": "conda-env-py37-py"
  },
  "language_info": {
   "codemirror_mode": {
    "name": "ipython",
    "version": 3
   },
   "file_extension": ".py",
   "mimetype": "text/x-python",
   "name": "python",
   "nbconvert_exporter": "python",
   "pygments_lexer": "ipython3",
   "version": "3.7.0"
  }
 },
 "nbformat": 4,
 "nbformat_minor": 5
}
